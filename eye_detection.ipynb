{
 "cells": [
  {
   "cell_type": "code",
   "execution_count": 2,
   "id": "dde66ab3-6526-4753-91e1-88d0a0a0b181",
   "metadata": {},
   "outputs": [],
   "source": [
    "import cv2\n",
    "import numpy as np\n",
    "\n",
    "def capture_frames(video_path, interval):\n",
    "    cap = cv2.VideoCapture(video_path)\n",
    "    frame_count = 0\n",
    "    while cap.isOpened():\n",
    "        ret, frame = cap.read()\n",
    "        if not ret:\n",
    "            break\n",
    "        if frame_count % interval == 0:\n",
    "            yield frame\n",
    "        frame_count += 1\n",
    "    cap.release()\n",
    "\n",
    "# Example usage\n",
    "video_path = 'video.mp4'\n",
    "interval = 15 # Capture every 15th frame\n",
    "for frame in capture_frames(video_path, interval):\n",
    "    # Process each frame here\n",
    "    pass"
   ]
  },
  {
   "cell_type": "code",
   "execution_count": 14,
   "id": "bd4687f1-551a-48a5-95db-5619deb0fdcc",
   "metadata": {},
   "outputs": [],
   "source": [
    "def detect_movement(prev_frame, current_frame):\n",
    "    # Convert frames to grayscale\n",
    "    prev_gray = cv2.cvtColor(prev_frame, cv2.COLOR_BGR2GRAY)\n",
    "    current_gray = cv2.cvtColor(current_frame, cv2.COLOR_BGR2GRAY)\n",
    "    \n",
    "    # Calculate absolute difference between frames\n",
    "    diff = cv2.absdiff(prev_gray, current_gray)\n",
    "    \n",
    "    # Set a threshold for movement\n",
    "    threshold = 30\n",
    "    if cv2.countNonZero(diff) > threshold:\n",
    "        return True\n",
    "    return False"
   ]
  },
  {
   "cell_type": "code",
   "execution_count": 15,
   "id": "87ee2a2f-189f-4829-93c7-9e3e75cf0153",
   "metadata": {},
   "outputs": [],
   "source": [
    "def eye_aspect_ratio(eye):\n",
    "    A = np.linalg.norm(eye[1] - eye[5])\n",
    "    B = np.linalg.norm(eye[2] - eye[4])\n",
    "    C = np.linalg.norm(eye[0] - eye[3])\n",
    "    ear = (A + B) / (2.0 * C)\n",
    "    return ear\n",
    "\n",
    "def detect_eyes_open(faces, gray):\n",
    "    eyes_open = False\n",
    "    for (x, y, w, h) in faces:\n",
    "        face_roi = gray[y:y+h, x:x+w]\n",
    "        eyes = eye_cascade.detectMultiScale(face_roi)\n",
    "        for (ex, ey, ew, eh) in eyes:\n",
    "            eye_roi = face_roi[ey:ey+eh, ex:ex+ew]\n",
    "            ear = eye_aspect_ratio(eye_roi)\n",
    "            if ear > 0.25: # Threshold for eyes being open\n",
    "                eyes_open = True\n",
    "    return eyes_open\n"
   ]
  },
  {
   "cell_type": "code",
   "execution_count": 16,
   "id": "37d6a19c-9ad9-4406-a45a-1720d959c280",
   "metadata": {},
   "outputs": [],
   "source": [
    "import cv2\n",
    "\n",
    "def detect_malpractice(frame, timestamp):\n",
    "    # Load a pre-trained model for face detection\n",
    "    face_cascade = cv2.CascadeClassifier(cv2.data.haarcascades + 'haarcascade_frontalface_default.xml')\n",
    "    \n",
    "    # Convert the frame to grayscale\n",
    "    gray = cv2.cvtColor(frame, cv2.COLOR_BGR2GRAY)\n",
    "    \n",
    "    # Detect faces in the frame\n",
    "    faces = face_cascade.detectMultiScale(gray, scaleFactor=1.1, minNeighbors=5, minSize=(30, 30))\n",
    "    \n",
    "    # If more than one face is detected, consider it as malpractice\n",
    "    if len(faces) > 1:\n",
    "        return True, timestamp\n",
    "    return False, None"
   ]
  },
  {
   "cell_type": "code",
   "execution_count": 18,
   "id": "0b2e7c82-785d-4635-a53f-bd5d91710014",
   "metadata": {},
   "outputs": [
    {
     "name": "stdout",
     "output_type": "stream",
     "text": [
      "Malpractice detected at timestamp: 3.07 seconds\n",
      "Malpractice detected at timestamp: 3.10 seconds\n",
      "Malpractice detected at timestamp: 3.13 seconds\n",
      "Malpractice detected at timestamp: 3.17 seconds\n",
      "Malpractice detected at timestamp: 3.20 seconds\n",
      "Malpractice detected at timestamp: 3.57 seconds\n",
      "Malpractice detected at timestamp: 3.63 seconds\n",
      "Malpractice detected at timestamp: 3.67 seconds\n",
      "Malpractice detected at timestamp: 3.73 seconds\n",
      "Malpractice detected at timestamp: 3.77 seconds\n",
      "Malpractice detected at timestamp: 3.80 seconds\n"
     ]
    }
   ],
   "source": [
    "\n",
    "import cv2\n",
    "\n",
    "def process_video(video_path):\n",
    "    cap = cv2.VideoCapture(video_path)\n",
    "    frame_count = 0\n",
    "    fps = cap.get(cv2.CAP_PROP_FPS) # Get the frames per second (FPS) of the video\n",
    "    while cap.isOpened():\n",
    "        ret, frame = cap.read()\n",
    "        if not ret:\n",
    "            break\n",
    "        \n",
    "        # Calculate the current timestamp in seconds\n",
    "        timestamp = frame_count / fps\n",
    "        \n",
    "        # Detect malpractice and get the timestamp if detected\n",
    "        is_malpractice, malpractice_timestamp = detect_malpractice(frame, timestamp)\n",
    "        if is_malpractice:\n",
    "            print(f\"Malpractice detected at timestamp: {malpractice_timestamp:.2f} seconds\")\n",
    "        \n",
    "        frame_count += 1\n",
    "    \n",
    "    cap.release()\n",
    "\n",
    "# Example usage\n",
    "video_path = 'video.mp4'\n",
    "process_video(video_path)"
   ]
  }
 ],
 "metadata": {
  "kernelspec": {
   "display_name": "Python 3 (ipykernel)",
   "language": "python",
   "name": "python3"
  },
  "language_info": {
   "codemirror_mode": {
    "name": "ipython",
    "version": 3
   },
   "file_extension": ".py",
   "mimetype": "text/x-python",
   "name": "python",
   "nbconvert_exporter": "python",
   "pygments_lexer": "ipython3",
   "version": "3.11.6"
  }
 },
 "nbformat": 4,
 "nbformat_minor": 5
}
